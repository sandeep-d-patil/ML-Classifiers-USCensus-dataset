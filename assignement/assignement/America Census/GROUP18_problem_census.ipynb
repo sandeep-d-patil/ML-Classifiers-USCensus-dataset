{
 "cells": [
  {
   "cell_type": "markdown",
   "metadata": {},
   "source": [
    "# American Census"
   ]
  },
  {
   "cell_type": "code",
   "execution_count": 1,
   "metadata": {
    "pycharm": {
     "is_executing": true
    }
   },
   "outputs": [],
   "source": [
    "import numpy as np\n",
    "import pandas as pd\n",
    "\n",
    "from sklearn.naive_bayes import GaussianNB\n",
    "from sklearn.dummy import DummyClassifier\n",
    "from sklearn.preprocessing import LabelEncoder\n",
    "from sklearn.tree import DecisionTreeClassifier\n",
    "from sklearn.svm import SVC\n",
    "from sklearn.neighbors import KNeighborsClassifier\n",
    "from sklearn.linear_model import LogisticRegression\n",
    "from sklearn.model_selection import train_test_split, StratifiedKFold, cross_val_score, learning_curve, KFold\n",
    "\n",
    "from sklearn import preprocessing\n",
    "from sklearn.preprocessing import StandardScaler\n",
    "from sklearn.metrics import f1_score, confusion_matrix, accuracy_score\n",
    "import matplotlib.pyplot as plt\n",
    "from matplotlib import pyplot\n",
    "\n",
    "import seaborn as sns"
   ]
  },
  {
   "cell_type": "markdown",
   "metadata": {},
   "source": [
    "## Global config"
   ]
  },
  {
   "cell_type": "code",
   "execution_count": 2,
   "metadata": {},
   "outputs": [],
   "source": [
    "# Data config\n",
    "path_to_csv = \"adult.csv\""
   ]
  },
  {
   "cell_type": "markdown",
   "metadata": {},
   "source": [
    "## Load data"
   ]
  },
  {
   "cell_type": "code",
   "execution_count": 3,
   "metadata": {},
   "outputs": [],
   "source": [
    "# Load train data\n",
    "X_train = pd.read_csv(\"X_train.csv\")\n",
    "y_train = pd.read_csv(\"y_train.csv\")\n",
    "\n",
    "# Load test data\n",
    "X_test = pd.read_csv(\"X_test.csv\")"
   ]
  },
  {
   "cell_type": "markdown",
   "metadata": {
    "pycharm": {
     "name": "#%% md\n"
    }
   },
   "source": [
    "# TODO\n"
   ]
  },
  {
   "cell_type": "markdown",
   "metadata": {},
   "source": [
    "## Data exploration\n",
    "1. What are the features and target variables of the dataset?\n",
    "2. What is the right performance metric to use for this dataset? (Explain)\n",
    "3. Algorithmic bias: should we use race and sex features in the machine learning algorithms? Explain the arguments."
   ]
  },
  {
   "cell_type": "markdown",
   "metadata": {},
   "source": [
    "### Question 1\n",
    "#### Income - target column"
   ]
  },
  {
   "cell_type": "code",
   "execution_count": 4,
   "metadata": {},
   "outputs": [
    {
     "data": {
      "text/html": [
       "<div>\n",
       "<style scoped>\n",
       "    .dataframe tbody tr th:only-of-type {\n",
       "        vertical-align: middle;\n",
       "    }\n",
       "\n",
       "    .dataframe tbody tr th {\n",
       "        vertical-align: top;\n",
       "    }\n",
       "\n",
       "    .dataframe thead th {\n",
       "        text-align: right;\n",
       "    }\n",
       "</style>\n",
       "<table border=\"1\" class=\"dataframe\">\n",
       "  <thead>\n",
       "    <tr style=\"text-align: right;\">\n",
       "      <th></th>\n",
       "      <th>age</th>\n",
       "      <th>education-num</th>\n",
       "      <th>hours-per-week</th>\n",
       "      <th>workclass</th>\n",
       "      <th>education</th>\n",
       "      <th>marital-status</th>\n",
       "      <th>occupation</th>\n",
       "      <th>relationship</th>\n",
       "      <th>race</th>\n",
       "      <th>sex</th>\n",
       "      <th>native-country</th>\n",
       "    </tr>\n",
       "  </thead>\n",
       "  <tbody>\n",
       "    <tr>\n",
       "      <th>0</th>\n",
       "      <td>30</td>\n",
       "      <td>9.0</td>\n",
       "      <td>40</td>\n",
       "      <td>Private</td>\n",
       "      <td>HS-grad</td>\n",
       "      <td>Married-civ-spouse</td>\n",
       "      <td>Sales</td>\n",
       "      <td>Own-child</td>\n",
       "      <td>Asian-Pac-Islander</td>\n",
       "      <td>Female</td>\n",
       "      <td>United-States</td>\n",
       "    </tr>\n",
       "    <tr>\n",
       "      <th>1</th>\n",
       "      <td>77</td>\n",
       "      <td>10.0</td>\n",
       "      <td>6</td>\n",
       "      <td>NaN</td>\n",
       "      <td>Some-college</td>\n",
       "      <td>Married-civ-spouse</td>\n",
       "      <td>NaN</td>\n",
       "      <td>Husband</td>\n",
       "      <td>White</td>\n",
       "      <td>Male</td>\n",
       "      <td>United-States</td>\n",
       "    </tr>\n",
       "    <tr>\n",
       "      <th>2</th>\n",
       "      <td>44</td>\n",
       "      <td>12.0</td>\n",
       "      <td>50</td>\n",
       "      <td>Private</td>\n",
       "      <td>Assoc-acdm</td>\n",
       "      <td>Never-married</td>\n",
       "      <td>Prof-specialty</td>\n",
       "      <td>Unmarried</td>\n",
       "      <td>Black</td>\n",
       "      <td>Female</td>\n",
       "      <td>United-States</td>\n",
       "    </tr>\n",
       "    <tr>\n",
       "      <th>3</th>\n",
       "      <td>53</td>\n",
       "      <td>10.0</td>\n",
       "      <td>50</td>\n",
       "      <td>Private</td>\n",
       "      <td>Some-college</td>\n",
       "      <td>Never-married</td>\n",
       "      <td>Adm-clerical</td>\n",
       "      <td>Not-in-family</td>\n",
       "      <td>White</td>\n",
       "      <td>Female</td>\n",
       "      <td>United-States</td>\n",
       "    </tr>\n",
       "    <tr>\n",
       "      <th>4</th>\n",
       "      <td>41</td>\n",
       "      <td>10.0</td>\n",
       "      <td>40</td>\n",
       "      <td>Federal-gov</td>\n",
       "      <td>Some-college</td>\n",
       "      <td>Married-civ-spouse</td>\n",
       "      <td>Transport-moving</td>\n",
       "      <td>Wife</td>\n",
       "      <td>White</td>\n",
       "      <td>Female</td>\n",
       "      <td>United-States</td>\n",
       "    </tr>\n",
       "  </tbody>\n",
       "</table>\n",
       "</div>"
      ],
      "text/plain": [
       "   age  education-num  hours-per-week     workclass      education  \\\n",
       "0   30            9.0              40       Private        HS-grad   \n",
       "1   77           10.0               6           NaN   Some-college   \n",
       "2   44           12.0              50       Private     Assoc-acdm   \n",
       "3   53           10.0              50       Private   Some-college   \n",
       "4   41           10.0              40   Federal-gov   Some-college   \n",
       "\n",
       "        marital-status         occupation    relationship  \\\n",
       "0   Married-civ-spouse              Sales       Own-child   \n",
       "1   Married-civ-spouse                NaN         Husband   \n",
       "2        Never-married     Prof-specialty       Unmarried   \n",
       "3        Never-married       Adm-clerical   Not-in-family   \n",
       "4   Married-civ-spouse   Transport-moving            Wife   \n",
       "\n",
       "                  race      sex  native-country  \n",
       "0   Asian-Pac-Islander   Female   United-States  \n",
       "1                White     Male   United-States  \n",
       "2                Black   Female   United-States  \n",
       "3                White   Female   United-States  \n",
       "4                White   Female   United-States  "
      ]
     },
     "execution_count": 4,
     "metadata": {},
     "output_type": "execute_result"
    }
   ],
   "source": [
    "# \n",
    "X_train.head()"
   ]
  },
  {
   "cell_type": "code",
   "execution_count": 5,
   "metadata": {},
   "outputs": [
    {
     "data": {
      "text/html": [
       "<div>\n",
       "<style scoped>\n",
       "    .dataframe tbody tr th:only-of-type {\n",
       "        vertical-align: middle;\n",
       "    }\n",
       "\n",
       "    .dataframe tbody tr th {\n",
       "        vertical-align: top;\n",
       "    }\n",
       "\n",
       "    .dataframe thead th {\n",
       "        text-align: right;\n",
       "    }\n",
       "</style>\n",
       "<table border=\"1\" class=\"dataframe\">\n",
       "  <thead>\n",
       "    <tr style=\"text-align: right;\">\n",
       "      <th></th>\n",
       "      <th>salary</th>\n",
       "    </tr>\n",
       "  </thead>\n",
       "  <tbody>\n",
       "    <tr>\n",
       "      <th>0</th>\n",
       "      <td>0</td>\n",
       "    </tr>\n",
       "    <tr>\n",
       "      <th>1</th>\n",
       "      <td>0</td>\n",
       "    </tr>\n",
       "    <tr>\n",
       "      <th>2</th>\n",
       "      <td>0</td>\n",
       "    </tr>\n",
       "    <tr>\n",
       "      <th>3</th>\n",
       "      <td>1</td>\n",
       "    </tr>\n",
       "    <tr>\n",
       "      <th>4</th>\n",
       "      <td>1</td>\n",
       "    </tr>\n",
       "  </tbody>\n",
       "</table>\n",
       "</div>"
      ],
      "text/plain": [
       "   salary\n",
       "0       0\n",
       "1       0\n",
       "2       0\n",
       "3       1\n",
       "4       1"
      ]
     },
     "execution_count": 5,
     "metadata": {},
     "output_type": "execute_result"
    }
   ],
   "source": [
    "y_train.head()"
   ]
  },
  {
   "cell_type": "code",
   "execution_count": 6,
   "metadata": {
    "pycharm": {
     "name": "#%%\n"
    }
   },
   "outputs": [
    {
     "name": "stderr",
     "output_type": "stream",
     "text": [
      "c:\\users\\sande\\appdata\\local\\programs\\python\\python38\\lib\\site-packages\\seaborn\\_decorators.py:36: FutureWarning: Pass the following variable as a keyword arg: x. From version 0.12, the only valid positional argument will be `data`, and passing other arguments without an explicit keyword will result in an error or misinterpretation.\n",
      "  warnings.warn(\n"
     ]
    },
    {
     "data": {
      "text/plain": [
       "0    12360\n",
       "1     3920\n",
       "Name: salary, dtype: int64"
      ]
     },
     "execution_count": 6,
     "metadata": {},
     "output_type": "execute_result"
    },
    {
     "data": {
      "image/png": "[encoded data removed]",
      "text/plain": [
       "<Figure size 432x288 with 1 Axes>"
      ]
     },
     "metadata": {
      "needs_background": "light"
     },
     "output_type": "display_data"
    }
   ],
   "source": [
    "# TODO\n",
    "# \n",
    "sns.countplot(y_train.salary)\n",
    "y_train['salary'].value_counts()\n",
    "# There is a high imbalance in the output classes."
   ]
  },
  {
   "cell_type": "code",
   "execution_count": 7,
   "metadata": {
    "pycharm": {
     "name": "#%% Plotting age\n"
    }
   },
   "outputs": [
    {
     "name": "stderr",
     "output_type": "stream",
     "text": [
      "c:\\users\\sande\\appdata\\local\\programs\\python\\python38\\lib\\site-packages\\seaborn\\_decorators.py:36: FutureWarning: Pass the following variable as a keyword arg: x. From version 0.12, the only valid positional argument will be `data`, and passing other arguments without an explicit keyword will result in an error or misinterpretation.\n",
      "  warnings.warn(\n",
      "c:\\users\\sande\\appdata\\local\\programs\\python\\python38\\lib\\site-packages\\seaborn\\_decorators.py:36: FutureWarning: Pass the following variable as a keyword arg: x. From version 0.12, the only valid positional argument will be `data`, and passing other arguments without an explicit keyword will result in an error or misinterpretation.\n",
      "  warnings.warn(\n"
     ]
    },
    {
     "data": {
      "text/plain": [
       "<AxesSubplot:xlabel='age', ylabel='count'>"
      ]
     },
     "execution_count": 7,
     "metadata": {},
     "output_type": "execute_result"
    },
    {
     "data": {
      "image/png": "[encoded data removed]",
      "text/plain": [
       "<Figure size 1440x288 with 1 Axes>"
      ]
     },
     "metadata": {
      "needs_background": "light"
     },
     "output_type": "display_data"
    }
   ],
   "source": [
    "dims = (20,4)\n",
    "fig, ax = pyplot.subplots(figsize=dims)\n",
    "sns.countplot(X_train[y_train.salary == 0].age,color='green')\n",
    "sns.countplot(X_train[y_train.salary == 1].age,color='blue')\n"
   ]
  },
  {
   "cell_type": "code",
   "execution_count": 8,
   "metadata": {
    "pycharm": {
     "name": "#%% Plotting education_num\n"
    }
   },
   "outputs": [
    {
     "name": "stderr",
     "output_type": "stream",
     "text": [
      "c:\\users\\sande\\appdata\\local\\programs\\python\\python38\\lib\\site-packages\\seaborn\\_decorators.py:36: FutureWarning: Pass the following variable as a keyword arg: x. From version 0.12, the only valid positional argument will be `data`, and passing other arguments without an explicit keyword will result in an error or misinterpretation.\n",
      "  warnings.warn(\n",
      "c:\\users\\sande\\appdata\\local\\programs\\python\\python38\\lib\\site-packages\\seaborn\\_decorators.py:36: FutureWarning: Pass the following variable as a keyword arg: x. From version 0.12, the only valid positional argument will be `data`, and passing other arguments without an explicit keyword will result in an error or misinterpretation.\n",
      "  warnings.warn(\n"
     ]
    },
    {
     "data": {
      "text/plain": [
       "<AxesSubplot:xlabel='education-num', ylabel='count'>"
      ]
     },
     "execution_count": 8,
     "metadata": {},
     "output_type": "execute_result"
    },
    {
     "data": {
      "image/png": "[encoded data removed]",
      "text/plain": [
       "<Figure size 432x288 with 1 Axes>"
      ]
     },
     "metadata": {
      "needs_background": "light"
     },
     "output_type": "display_data"
    }
   ],
   "source": [
    "sns.countplot(X_train['education-num'][y_train.salary == 0],color='red')\n",
    "sns.countplot(X_train['education-num'][y_train.salary == 1],color='yellow')"
   ]
  },
  {
   "cell_type": "code",
   "execution_count": 9,
   "metadata": {
    "pycharm": {
     "name": "#%% Plotting hours_per_week\n"
    }
   },
   "outputs": [
    {
     "name": "stderr",
     "output_type": "stream",
     "text": [
      "c:\\users\\sande\\appdata\\local\\programs\\python\\python38\\lib\\site-packages\\seaborn\\distributions.py:2551: FutureWarning: `distplot` is a deprecated function and will be removed in a future version. Please adapt your code to use either `displot` (a figure-level function with similar flexibility) or `histplot` (an axes-level function for histograms).\n",
      "  warnings.warn(msg, FutureWarning)\n",
      "c:\\users\\sande\\appdata\\local\\programs\\python\\python38\\lib\\site-packages\\seaborn\\distributions.py:2551: FutureWarning: `distplot` is a deprecated function and will be removed in a future version. Please adapt your code to use either `displot` (a figure-level function with similar flexibility) or `histplot` (an axes-level function for histograms).\n",
      "  warnings.warn(msg, FutureWarning)\n"
     ]
    },
    {
     "data": {
      "text/plain": [
       "<AxesSubplot:xlabel='hours-per-week', ylabel='Density'>"
      ]
     },
     "execution_count": 9,
     "metadata": {},
     "output_type": "execute_result"
    },
    {
     "data": {
      "image/png": "[encoded data removed]",
      "text/plain": [
       "<Figure size 432x288 with 1 Axes>"
      ]
     },
     "metadata": {
      "needs_background": "light"
     },
     "output_type": "display_data"
    }
   ],
   "source": [
    "sns.distplot(X_train['hours-per-week'][y_train.salary == 0],color='green')\n",
    "sns.distplot(X_train['hours-per-week'][y_train.salary == 1],color='blue')"
   ]
  },
  {
   "cell_type": "code",
   "execution_count": 10,
   "metadata": {},
   "outputs": [
    {
     "data": {
      "text/plain": [
       " United-States                 14598\n",
       " Mexico                          311\n",
       " Philippines                      85\n",
       " Canada                           67\n",
       " Germany                          66\n",
       " Puerto-Rico                      63\n",
       " El-Salvador                      58\n",
       " India                            57\n",
       " Cuba                             44\n",
       " Jamaica                          43\n",
       " England                          43\n",
       " South                            41\n",
       " China                            38\n",
       " Poland                           35\n",
       " Japan                            32\n",
       " Vietnam                          31\n",
       " Italy                            30\n",
       " Columbia                         29\n",
       " Guatemala                        28\n",
       " Iran                             27\n",
       " Dominican-Republic               26\n",
       " Portugal                         21\n",
       " Nicaragua                        21\n",
       " Taiwan                           21\n",
       " Haiti                            16\n",
       " Greece                           15\n",
       " Peru                             15\n",
       " Ecuador                          15\n",
       " Laos                             13\n",
       " France                           12\n",
       " Hungary                          11\n",
       " Trinadad&Tobago                  11\n",
       " Cambodia                         11\n",
       " Ireland                          10\n",
       " Yugoslavia                        9\n",
       " Hong                              9\n",
       " Thailand                          7\n",
       " Honduras                          5\n",
       " Scotland                          3\n",
       " Outlying-US(Guam-USVI-etc)        3\n",
       "Name: native-country, dtype: int64"
      ]
     },
     "execution_count": 10,
     "metadata": {},
     "output_type": "execute_result"
    }
   ],
   "source": [
    "X_train['native-country'].value_counts()"
   ]
  },
  {
   "cell_type": "code",
   "execution_count": 11,
   "metadata": {
    "pycharm": {
     "name": "#%%\n"
    }
   },
   "outputs": [
    {
     "data": {
      "text/plain": [
       " Private             11352\n",
       " Self-emp-not-inc     1263\n",
       " Local-gov            1063\n",
       " State-gov             628\n",
       " Self-emp-inc          574\n",
       " Federal-gov           453\n",
       " Without-pay             8\n",
       " Never-worked            3\n",
       "Name: workclass, dtype: int64"
      ]
     },
     "execution_count": 11,
     "metadata": {},
     "output_type": "execute_result"
    }
   ],
   "source": [
    "X_train['workclass'].value_counts()"
   ]
  },
  {
   "cell_type": "code",
   "execution_count": 12,
   "metadata": {
    "pycharm": {
     "name": "#%%\n"
    }
   },
   "outputs": [
    {
     "data": {
      "text/plain": [
       "9.0     5132\n",
       "10.0    3607\n",
       "13.0    2683\n",
       "14.0     833\n",
       "11.0     712\n",
       "7.0      594\n",
       "12.0     524\n",
       "6.0      463\n",
       "4.0      300\n",
       "15.0     270\n",
       "5.0      247\n",
       "8.0      205\n",
       "16.0     204\n",
       "3.0      160\n",
       "2.0       80\n",
       "1.0       26\n",
       "Name: education-num, dtype: int64"
      ]
     },
     "execution_count": 12,
     "metadata": {},
     "output_type": "execute_result"
    }
   ],
   "source": [
    "X_train['education-num'].value_counts()"
   ]
  },
  {
   "cell_type": "code",
   "execution_count": 13,
   "metadata": {
    "pycharm": {
     "name": "#%%\n"
    }
   },
   "outputs": [
    {
     "data": {
      "text/plain": [
       " Married-civ-spouse       7464\n",
       " Never-married            5349\n",
       " Divorced                 2208\n",
       " Separated                 510\n",
       " Widowed                   500\n",
       " Married-spouse-absent     233\n",
       " Married-AF-spouse          16\n",
       "Name: marital-status, dtype: int64"
      ]
     },
     "execution_count": 13,
     "metadata": {},
     "output_type": "execute_result"
    }
   ],
   "source": [
    "X_train['marital-status'].value_counts()"
   ]
  },
  {
   "cell_type": "code",
   "execution_count": 14,
   "metadata": {},
   "outputs": [
    {
     "data": {
      "text/plain": [
       " Husband           6545\n",
       " Not-in-family     4192\n",
       " Own-child         2538\n",
       " Unmarried         1708\n",
       " Wife               806\n",
       " Other-relative     491\n",
       "Name: relationship, dtype: int64"
      ]
     },
     "execution_count": 14,
     "metadata": {},
     "output_type": "execute_result"
    }
   ],
   "source": [
    "X_train['relationship'].value_counts()"
   ]
  },
  {
   "cell_type": "markdown",
   "metadata": {},
   "source": [
    "### Question 2"
   ]
  },
  {
   "cell_type": "code",
   "execution_count": 15,
   "metadata": {},
   "outputs": [
    {
     "name": "stderr",
     "output_type": "stream",
     "text": [
      "c:\\users\\sande\\appdata\\local\\programs\\python\\python38\\lib\\site-packages\\seaborn\\_decorators.py:36: FutureWarning: Pass the following variable as a keyword arg: x. From version 0.12, the only valid positional argument will be `data`, and passing other arguments without an explicit keyword will result in an error or misinterpretation.\n",
      "  warnings.warn(\n"
     ]
    },
    {
     "data": {
      "text/plain": [
       "<AxesSubplot:xlabel='sex', ylabel='count'>"
      ]
     },
     "execution_count": 15,
     "metadata": {},
     "output_type": "execute_result"
    },
    {
     "data": {
      "image/png": "[encoded data removed]",
      "text/plain": [
       "<Figure size 432x288 with 1 Axes>"
      ]
     },
     "metadata": {
      "needs_background": "light"
     },
     "output_type": "display_data"
    }
   ],
   "source": [
    "plt.xticks(rotation=90)\n",
    "sns.countplot(X_train['sex'],hue=y_train['salary'])"
   ]
  },
  {
   "cell_type": "code",
   "execution_count": 16,
   "metadata": {},
   "outputs": [
    {
     "name": "stderr",
     "output_type": "stream",
     "text": [
      "c:\\users\\sande\\appdata\\local\\programs\\python\\python38\\lib\\site-packages\\seaborn\\_decorators.py:36: FutureWarning: Pass the following variable as a keyword arg: x. From version 0.12, the only valid positional argument will be `data`, and passing other arguments without an explicit keyword will result in an error or misinterpretation.\n",
      "  warnings.warn(\n"
     ]
    },
    {
     "data": {
      "text/plain": [
       "<AxesSubplot:xlabel='race', ylabel='count'>"
      ]
     },
     "execution_count": 16,
     "metadata": {},
     "output_type": "execute_result"
    },
    {
     "data": {
      "image/png": "[encoded data removed]",
      "text/plain": [
       "<Figure size 432x288 with 1 Axes>"
      ]
     },
     "metadata": {
      "needs_background": "light"
     },
     "output_type": "display_data"
    }
   ],
   "source": [
    "sns.countplot(X_train['race'],hue=y_train['salary'])"
   ]
  },
  {
   "cell_type": "markdown",
   "metadata": {},
   "source": [
    "## Data preperation"
   ]
  },
  {
   "cell_type": "markdown",
   "metadata": {},
   "source": [
    "### Question 1\n",
    "This dataset hasn’t been cleaned, yet. Do this by finding all the missing values\n",
    "and handling them. How did you handle these missing values? Clearly explain which\n",
    "values were missing and how you handled them. Use no more than 100 words."
   ]
  },
  {
   "cell_type": "code",
   "execution_count": 17,
   "metadata": {
    "pycharm": {
     "name": "#%%\n"
    }
   },
   "outputs": [
    {
     "data": {
      "text/plain": [
       "age                  0\n",
       "education-num      240\n",
       "hours-per-week       0\n",
       "workclass          936\n",
       "education            0\n",
       "marital-status       0\n",
       "occupation        1181\n",
       "relationship         0\n",
       "race                 0\n",
       "sex                  0\n",
       "native-country     300\n",
       "dtype: int64"
      ]
     },
     "execution_count": 17,
     "metadata": {},
     "output_type": "execute_result"
    }
   ],
   "source": [
    "# Check for NaN values in the training dataset\n",
    "X_train.isnull().sum()"
   ]
  },
  {
   "cell_type": "code",
   "execution_count": 18,
   "metadata": {},
   "outputs": [],
   "source": [
    "# TODO\n",
    "## Helpers\n",
    "def transformer(X):\n",
    "    \"\"\"\n",
    "    Replace NaN values with the most repeated values in case of categorical data.\n",
    "    Replace NaN values with mean value in case of numerical data.\n",
    "    \"\"\"\n",
    "    for i,j in enumerate(X):\n",
    "        if X[j].isnull().sum() > 0 and X[j].dtype == np.dtype('O'):\n",
    "            X[j].fillna(X[j].mode()[0],inplace=True)\n",
    "        elif X[j].isnull().sum() > 0:\n",
    "            X[j].fillna(X[j].mean(),inplace=True)\n",
    "    return X"
   ]
  },
  {
   "cell_type": "code",
   "execution_count": 19,
   "metadata": {},
   "outputs": [
    {
     "data": {
      "text/plain": [
       "age               0\n",
       "education-num     0\n",
       "hours-per-week    0\n",
       "workclass         0\n",
       "education         0\n",
       "marital-status    0\n",
       "occupation        0\n",
       "relationship      0\n",
       "race              0\n",
       "sex               0\n",
       "native-country    0\n",
       "dtype: int64"
      ]
     },
     "execution_count": 19,
     "metadata": {},
     "output_type": "execute_result"
    }
   ],
   "source": [
    "x_train = transformer(X_train)\n",
    "x_test = transformer(X_test)\n",
    "# Check if the NaN values are removed\n",
    "x_train.isnull().sum()\n",
    "x_test.isnull().sum()"
   ]
  },
  {
   "cell_type": "code",
   "execution_count": 20,
   "metadata": {},
   "outputs": [
    {
     "data": {
      "text/html": [
       "<div>\n",
       "<style scoped>\n",
       "    .dataframe tbody tr th:only-of-type {\n",
       "        vertical-align: middle;\n",
       "    }\n",
       "\n",
       "    .dataframe tbody tr th {\n",
       "        vertical-align: top;\n",
       "    }\n",
       "\n",
       "    .dataframe thead th {\n",
       "        text-align: right;\n",
       "    }\n",
       "</style>\n",
       "<table border=\"1\" class=\"dataframe\">\n",
       "  <thead>\n",
       "    <tr style=\"text-align: right;\">\n",
       "      <th></th>\n",
       "      <th>age</th>\n",
       "      <th>education-num</th>\n",
       "      <th>hours-per-week</th>\n",
       "      <th>workclass</th>\n",
       "      <th>education</th>\n",
       "      <th>marital-status</th>\n",
       "      <th>occupation</th>\n",
       "      <th>relationship</th>\n",
       "      <th>race</th>\n",
       "      <th>sex</th>\n",
       "      <th>native-country</th>\n",
       "    </tr>\n",
       "  </thead>\n",
       "  <tbody>\n",
       "    <tr>\n",
       "      <th>0</th>\n",
       "      <td>74</td>\n",
       "      <td>10.0</td>\n",
       "      <td>40</td>\n",
       "      <td>Self-emp-inc</td>\n",
       "      <td>Some-college</td>\n",
       "      <td>Widowed</td>\n",
       "      <td>Exec-managerial</td>\n",
       "      <td>Unmarried</td>\n",
       "      <td>White</td>\n",
       "      <td>Male</td>\n",
       "      <td>United-States</td>\n",
       "    </tr>\n",
       "    <tr>\n",
       "      <th>1</th>\n",
       "      <td>17</td>\n",
       "      <td>8.0</td>\n",
       "      <td>15</td>\n",
       "      <td>Private</td>\n",
       "      <td>12th</td>\n",
       "      <td>Never-married</td>\n",
       "      <td>Handlers-cleaners</td>\n",
       "      <td>Own-child</td>\n",
       "      <td>White</td>\n",
       "      <td>Male</td>\n",
       "      <td>United-States</td>\n",
       "    </tr>\n",
       "    <tr>\n",
       "      <th>2</th>\n",
       "      <td>60</td>\n",
       "      <td>10.0</td>\n",
       "      <td>32</td>\n",
       "      <td>Private</td>\n",
       "      <td>Some-college</td>\n",
       "      <td>Married-civ-spouse</td>\n",
       "      <td>Craft-repair</td>\n",
       "      <td>Husband</td>\n",
       "      <td>Other</td>\n",
       "      <td>Male</td>\n",
       "      <td>United-States</td>\n",
       "    </tr>\n",
       "    <tr>\n",
       "      <th>3</th>\n",
       "      <td>62</td>\n",
       "      <td>9.0</td>\n",
       "      <td>42</td>\n",
       "      <td>Private</td>\n",
       "      <td>HS-grad</td>\n",
       "      <td>Widowed</td>\n",
       "      <td>Adm-clerical</td>\n",
       "      <td>Not-in-family</td>\n",
       "      <td>White</td>\n",
       "      <td>Female</td>\n",
       "      <td>United-States</td>\n",
       "    </tr>\n",
       "    <tr>\n",
       "      <th>4</th>\n",
       "      <td>52</td>\n",
       "      <td>10.0</td>\n",
       "      <td>65</td>\n",
       "      <td>Private</td>\n",
       "      <td>Some-college</td>\n",
       "      <td>Married-civ-spouse</td>\n",
       "      <td>Sales</td>\n",
       "      <td>Husband</td>\n",
       "      <td>White</td>\n",
       "      <td>Male</td>\n",
       "      <td>United-States</td>\n",
       "    </tr>\n",
       "    <tr>\n",
       "      <th>...</th>\n",
       "      <td>...</td>\n",
       "      <td>...</td>\n",
       "      <td>...</td>\n",
       "      <td>...</td>\n",
       "      <td>...</td>\n",
       "      <td>...</td>\n",
       "      <td>...</td>\n",
       "      <td>...</td>\n",
       "      <td>...</td>\n",
       "      <td>...</td>\n",
       "      <td>...</td>\n",
       "    </tr>\n",
       "    <tr>\n",
       "      <th>14742</th>\n",
       "      <td>30</td>\n",
       "      <td>12.0</td>\n",
       "      <td>50</td>\n",
       "      <td>Private</td>\n",
       "      <td>Assoc-acdm</td>\n",
       "      <td>Married-civ-spouse</td>\n",
       "      <td>Exec-managerial</td>\n",
       "      <td>Husband</td>\n",
       "      <td>White</td>\n",
       "      <td>Male</td>\n",
       "      <td>United-States</td>\n",
       "    </tr>\n",
       "    <tr>\n",
       "      <th>14743</th>\n",
       "      <td>27</td>\n",
       "      <td>12.0</td>\n",
       "      <td>40</td>\n",
       "      <td>Private</td>\n",
       "      <td>Assoc-acdm</td>\n",
       "      <td>Never-married</td>\n",
       "      <td>Exec-managerial</td>\n",
       "      <td>Not-in-family</td>\n",
       "      <td>White</td>\n",
       "      <td>Male</td>\n",
       "      <td>United-States</td>\n",
       "    </tr>\n",
       "    <tr>\n",
       "      <th>14744</th>\n",
       "      <td>39</td>\n",
       "      <td>9.0</td>\n",
       "      <td>40</td>\n",
       "      <td>State-gov</td>\n",
       "      <td>HS-grad</td>\n",
       "      <td>Never-married</td>\n",
       "      <td>Other-service</td>\n",
       "      <td>Not-in-family</td>\n",
       "      <td>Black</td>\n",
       "      <td>Male</td>\n",
       "      <td>United-States</td>\n",
       "    </tr>\n",
       "    <tr>\n",
       "      <th>14745</th>\n",
       "      <td>36</td>\n",
       "      <td>9.0</td>\n",
       "      <td>45</td>\n",
       "      <td>Local-gov</td>\n",
       "      <td>HS-grad</td>\n",
       "      <td>Married-civ-spouse</td>\n",
       "      <td>Exec-managerial</td>\n",
       "      <td>Husband</td>\n",
       "      <td>White</td>\n",
       "      <td>Male</td>\n",
       "      <td>United-States</td>\n",
       "    </tr>\n",
       "    <tr>\n",
       "      <th>14746</th>\n",
       "      <td>51</td>\n",
       "      <td>10.0</td>\n",
       "      <td>75</td>\n",
       "      <td>Self-emp-not-inc</td>\n",
       "      <td>Some-college</td>\n",
       "      <td>Married-civ-spouse</td>\n",
       "      <td>Farming-fishing</td>\n",
       "      <td>Husband</td>\n",
       "      <td>White</td>\n",
       "      <td>Male</td>\n",
       "      <td>United-States</td>\n",
       "    </tr>\n",
       "  </tbody>\n",
       "</table>\n",
       "<p>14747 rows × 11 columns</p>\n",
       "</div>"
      ],
      "text/plain": [
       "       age  education-num  hours-per-week          workclass      education  \\\n",
       "0       74           10.0              40       Self-emp-inc   Some-college   \n",
       "1       17            8.0              15            Private           12th   \n",
       "2       60           10.0              32            Private   Some-college   \n",
       "3       62            9.0              42            Private        HS-grad   \n",
       "4       52           10.0              65            Private   Some-college   \n",
       "...    ...            ...             ...                ...            ...   \n",
       "14742   30           12.0              50            Private     Assoc-acdm   \n",
       "14743   27           12.0              40            Private     Assoc-acdm   \n",
       "14744   39            9.0              40          State-gov        HS-grad   \n",
       "14745   36            9.0              45          Local-gov        HS-grad   \n",
       "14746   51           10.0              75   Self-emp-not-inc   Some-college   \n",
       "\n",
       "            marital-status          occupation    relationship    race  \\\n",
       "0                  Widowed     Exec-managerial       Unmarried   White   \n",
       "1            Never-married   Handlers-cleaners       Own-child   White   \n",
       "2       Married-civ-spouse        Craft-repair         Husband   Other   \n",
       "3                  Widowed        Adm-clerical   Not-in-family   White   \n",
       "4       Married-civ-spouse               Sales         Husband   White   \n",
       "...                    ...                 ...             ...     ...   \n",
       "14742   Married-civ-spouse     Exec-managerial         Husband   White   \n",
       "14743        Never-married     Exec-managerial   Not-in-family   White   \n",
       "14744        Never-married       Other-service   Not-in-family   Black   \n",
       "14745   Married-civ-spouse     Exec-managerial         Husband   White   \n",
       "14746   Married-civ-spouse     Farming-fishing         Husband   White   \n",
       "\n",
       "           sex  native-country  \n",
       "0         Male   United-States  \n",
       "1         Male   United-States  \n",
       "2         Male   United-States  \n",
       "3       Female   United-States  \n",
       "4         Male   United-States  \n",
       "...        ...             ...  \n",
       "14742     Male   United-States  \n",
       "14743     Male   United-States  \n",
       "14744     Male   United-States  \n",
       "14745     Male   United-States  \n",
       "14746     Male   United-States  \n",
       "\n",
       "[14747 rows x 11 columns]"
      ]
     },
     "execution_count": 20,
     "metadata": {},
     "output_type": "execute_result"
    }
   ],
   "source": [
    "x_test"
   ]
  },
  {
   "cell_type": "code",
   "execution_count": 21,
   "metadata": {
    "pycharm": {
     "name": "#%%\n"
    }
   },
   "outputs": [
    {
     "data": {
      "text/plain": [
       "Index(['workclass', 'education', 'marital-status', 'occupation',\n",
       "       'relationship', 'race', 'sex', 'native-country'],\n",
       "      dtype='object')"
      ]
     },
     "execution_count": 21,
     "metadata": {},
     "output_type": "execute_result"
    }
   ],
   "source": [
    "# Check object list\n",
    "objlist = x_train.select_dtypes(include='object').columns\n",
    "objlist"
   ]
  },
  {
   "cell_type": "code",
   "execution_count": 22,
   "metadata": {
    "pycharm": {
     "name": "#%%\n"
    }
   },
   "outputs": [],
   "source": [
    "x_train['marital-status'] = x_train['marital-status'].str.replace(r'Never-married','Single')\n",
    "x_train['marital-status'] = x_train['marital-status'].str.replace(r'Divorced','Single')\n",
    "x_train['marital-status'] = x_train['marital-status'].str.replace(r'Separated','Single')\n",
    "x_train['marital-status'] = x_train['marital-status'].str.replace(r'Widowed','Single')\n",
    "x_train['marital-status'] = x_train['marital-status'].str.replace(r'Married-spouse-absent','Single')\n",
    "x_train['marital-status'] = x_train['marital-status'].str.replace(r'Married-AF-spouse','Single')\n",
    "x_train['marital-status'] = x_train['marital-status'].str.replace(r'Married-civ-spouse','Married')"
   ]
  },
  {
   "cell_type": "code",
   "execution_count": 23,
   "metadata": {},
   "outputs": [],
   "source": [
    "x_test['marital-status'] = x_test['marital-status'].str.replace(r'Never-married','Single')\n",
    "x_test['marital-status'] = x_test['marital-status'].str.replace(r'Divorced','Single')\n",
    "x_test['marital-status'] = x_test['marital-status'].str.replace(r'Separated','Single')\n",
    "x_test['marital-status'] = x_test['marital-status'].str.replace(r'Widowed','Single')\n",
    "x_test['marital-status'] = x_test['marital-status'].str.replace(r'Married-spouse-absent','Single')\n",
    "x_test['marital-status'] = x_test['marital-status'].str.replace(r'Married-AF-spouse','Single')\n",
    "x_test['marital-status'] = x_test['marital-status'].str.replace(r'Married-civ-spouse','Married')"
   ]
  },
  {
   "cell_type": "markdown",
   "metadata": {
    "pycharm": {
     "name": "#%% md\n"
    }
   },
   "source": [
    "### Question 2"
   ]
  },
  {
   "cell_type": "code",
   "execution_count": 24,
   "metadata": {
    "scrolled": true
   },
   "outputs": [],
   "source": [
    "# TODO\n",
    "#Encode categorical variables\n",
    "categories = ['workclass',   'occupation',\n",
    "        'race', 'native-country','education', 'marital-status',\n",
    "       'relationship', 'sex']\n",
    "\n",
    "for feature in categories:\n",
    "    le = preprocessing.LabelEncoder()\n",
    "    x_train[feature] = le.fit_transform(x_train[feature])\n",
    "    x_test[feature] = le.fit_transform(x_test[feature])\n",
    "\n",
    "#Feature Scaling\n",
    "scaler = preprocessing.StandardScaler().fit(x_train)\n",
    "x_scaled = pd.DataFrame(scaler.transform(x_train),columns = x_train.columns)\n"
   ]
  },
  {
   "cell_type": "code",
   "execution_count": 25,
   "metadata": {
    "pycharm": {
     "name": "#%%\n"
    }
   },
   "outputs": [],
   "source": [
    "test_scaler = preprocessing.StandardScaler().fit(x_test)\n",
    "x_scaled_test = pd.DataFrame(test_scaler.transform(x_test),columns=x_test.columns)"
   ]
  },
  {
   "cell_type": "markdown",
   "metadata": {
    "pycharm": {
     "name": "#%% md\n"
    }
   },
   "source": [
    "### Question 3"
   ]
  },
  {
   "cell_type": "code",
   "execution_count": 26,
   "metadata": {},
   "outputs": [
    {
     "data": {
      "text/plain": [
       "<AxesSubplot:>"
      ]
     },
     "execution_count": 26,
     "metadata": {},
     "output_type": "execute_result"
    },
    {
     "data": {
      "image/png": "[encoded data removed]",
      "text/plain": [
       "<Figure size 432x288 with 2 Axes>"
      ]
     },
     "metadata": {
      "needs_background": "light"
     },
     "output_type": "display_data"
    }
   ],
   "source": [
    "# TODO\n",
    "sns.heatmap(x_scaled.corr())"
   ]
  },
  {
   "cell_type": "code",
   "execution_count": 27,
   "metadata": {
    "pycharm": {
     "name": "#%%\n"
    }
   },
   "outputs": [],
   "source": [
    "# Drop the columns relationship and education as they have correlating values compared to other features\n",
    "x_scaled.drop(columns=['relationship', 'education','race','sex'],inplace=True)\n",
    "x_scaled_test.drop(columns=['relationship', 'education','race','sex'],inplace=True)"
   ]
  },
  {
   "cell_type": "markdown",
   "metadata": {},
   "source": [
    "## Experiments"
   ]
  },
  {
   "cell_type": "markdown",
   "metadata": {
    "pycharm": {
     "name": "#%% md\n"
    }
   },
   "source": [
    "### Question 1"
   ]
  },
  {
   "cell_type": "code",
   "execution_count": 28,
   "metadata": {
    "pycharm": {
     "name": "#%%\n"
    }
   },
   "outputs": [],
   "source": [
    "# TODO\n",
    "Xtrain, Xtest, Ytrain, Ytest = train_test_split(x_scaled,y_train, test_size = 0.4)\n",
    "# Xtrain = np.array(Xtrain)\n",
    "Ytrain = np.array(Ytrain)\n",
    "\n",
    "Ytest = np.array(Ytest)"
   ]
  },
  {
   "cell_type": "markdown",
   "metadata": {
    "pycharm": {
     "name": "#%% md\n"
    }
   },
   "source": [
    "### Question 2"
   ]
  },
  {
   "cell_type": "code",
   "execution_count": 29,
   "metadata": {
    "pycharm": {
     "name": "#%%\n"
    },
    "scrolled": true
   },
   "outputs": [
    {
     "name": "stdout",
     "output_type": "stream",
     "text": [
      "GaussianNB\n",
      "- accuracy_score 0.8103501228501229\n",
      "- f1_score 0.8116771981047121\n",
      "DummyClassifier\n",
      "- accuracy_score 0.7581388206388207\n",
      "- f1_score 0.6538442409806721\n",
      "DecisionTreeClassifier\n",
      "- accuracy_score 0.7882371007371007\n",
      "- f1_score 0.7810988656485252\n",
      "KNeighborsClassifier\n",
      "- accuracy_score 0.7943796068796068\n",
      "- f1_score 0.7914165076324473\n",
      "SVM\n",
      "- accuracy_score 0.8230958230958231\n",
      "- f1_score 0.8078355206217681\n",
      "LogisticRegression\n",
      "- accuracy_score 0.8161855036855037\n",
      "- f1_score 0.8075309707424664\n"
     ]
    }
   ],
   "source": [
    "random_state = 42\n",
    "\n",
    "models = {\n",
    "    \"GaussianNB\": GaussianNB(),\n",
    "    \"DummyClassifier\": DummyClassifier(strategy=\"most_frequent\"),\n",
    "    \"DecisionTreeClassifier\": DecisionTreeClassifier(max_depth=None, min_samples_leaf=2, random_state=random_state),\n",
    "    \"KNeighborsClassifier\": KNeighborsClassifier(n_neighbors=3, weights=\"distance\"),\n",
    "    \"SVM\": SVC(C=10, kernel=\"poly\", random_state=42),\n",
    "    \"LogisticRegression\": LogisticRegression(random_state=42, C=10)\n",
    "}\n",
    "names = []\n",
    "results = []\n",
    "for name, model in models.items():\n",
    "    model.fit(Xtrain,Ytrain.ravel())\n",
    "    prediction = model.predict(Xtest)\n",
    "    f1_score_value = f1_score(Ytest.ravel(), prediction, average=\"weighted\")\n",
    "    accuracy = accuracy_score(Ytest.ravel(), prediction)\n",
    "    confusion_matrix(Ytest.ravel(), prediction)\n",
    "    results.append(f1_score_value)\n",
    "    names.append(name)\n",
    "    print(name)\n",
    "    print(\"- accuracy_score\", accuracy)\n",
    "    print(\"- f1_score\", f1_score_value)\n"
   ]
  },
  {
   "cell_type": "code",
   "execution_count": 49,
   "metadata": {},
   "outputs": [
    {
     "data": {
      "image/png": "[encoded data removed]",
      "text/plain": [
       "<Figure size 720x360 with 1 Axes>"
      ]
     },
     "metadata": {
      "needs_background": "light"
     },
     "output_type": "display_data"
    }
   ],
   "source": [
    "# Plotting the results of baseline classifiers\n",
    "plt.figure(figsize=(10,5))\n",
    "plt.scatter(names,results,marker=\"x\",label=\"baseline classifiers\")\n",
    "plt.xlabel('Classifier')\n",
    "plt.ylabel('F1_score')\n",
    "plt.legend()\n",
    "plt.show()"
   ]
  },
  {
   "cell_type": "code",
   "execution_count": 30,
   "metadata": {},
   "outputs": [],
   "source": [
    "def k_fold_fit_and_evaluate(X, y, model, scoring_method, n_splits=5):\n",
    "    \n",
    "    cv = KFold(n_splits=n_splits, random_state=42, shuffle=True)\n",
    "    scores = cross_validate(model, X, y, scoring=scoring_method, cv=cv, n_jobs=-1)\n",
    "\n",
    "    return scores[\"test_score\"]"
   ]
  },
  {
   "cell_type": "code",
   "execution_count": 31,
   "metadata": {
    "pycharm": {
     "name": "#%%\n"
    }
   },
   "outputs": [
    {
     "name": "stdout",
     "output_type": "stream",
     "text": [
      "GaussianNB\n",
      "- mean F1 0.815\n",
      "- std F1 0.0125\n",
      "- mean Accuracy Score 0.816\n",
      "- std Accuracy Score 0.0129\n",
      "DummyClassifier\n",
      "- mean F1 0.863\n",
      "- std F1 0.0064\n",
      "- mean Accuracy Score 0.759\n",
      "- std Accuracy Score 0.0099\n",
      "DecisionTreeClassifier\n",
      "- mean F1 0.801\n",
      "- std F1 0.0075\n",
      "- mean Accuracy Score 0.793\n",
      "- std Accuracy Score 0.0087\n",
      "KNeighborsClassifier\n",
      "- mean F1 0.801\n",
      "- std F1 0.0098\n",
      "- mean Accuracy Score 0.799\n",
      "- std Accuracy Score 0.0097\n",
      "SVM\n",
      "- mean F1 0.837\n",
      "- std F1 0.0076\n",
      "- mean Accuracy Score 0.82\n",
      "- std Accuracy Score 0.009\n",
      "LogisticRegression\n",
      "- mean F1 0.827\n",
      "- std F1 0.0092\n",
      "- mean Accuracy Score 0.817\n",
      "- std Accuracy Score 0.0099\n"
     ]
    }
   ],
   "source": [
    "from sklearn.model_selection import KFold\n",
    "from sklearn.model_selection import cross_validate\n",
    "from sklearn.metrics import make_scorer\n",
    "\n",
    "n_splits = 10\n",
    "\n",
    "scoring_method_f1 = make_scorer(lambda prediction, true_target: f1_score(true_target, prediction, average=\"weighted\"))\n",
    "scoring_method_acc = make_scorer(lambda prediction, true_target: accuracy_score(true_target, prediction))\n",
    "\n",
    "for name, model in models.items():\n",
    "    print(name)\n",
    "    metrics_f1 = k_fold_fit_and_evaluate(x_scaled, y_train, model, scoring_method_f1, n_splits=n_splits)\n",
    "    # START ANSWER\n",
    "    metrics_acc = k_fold_fit_and_evaluate(x_scaled, y_train, model, scoring_method_acc, n_splits=n_splits)\n",
    "\n",
    "    mean_f1 = np.mean(metrics_f1)\n",
    "    std_f1 = np.std(metrics_f1)\n",
    "    mean_acc = np.mean(metrics_acc)\n",
    "    std_acc = np.std(metrics_acc)\n",
    "    print(\"- mean F1\", round(mean_f1,3))\n",
    "    print(\"- std F1\", round(std_f1,4))\n",
    "    print(\"- mean Accuracy Score\", round(mean_acc,3))\n",
    "    print(\"- std Accuracy Score\", round(std_acc,4))"
   ]
  },
  {
   "cell_type": "markdown",
   "metadata": {
    "pycharm": {
     "name": "#%% md\n"
    }
   },
   "source": [
    "### Question 3"
   ]
  },
  {
   "cell_type": "code",
   "execution_count": 53,
   "metadata": {
    "pycharm": {
     "name": "#%%\n"
    }
   },
   "outputs": [
    {
     "name": "stdout",
     "output_type": "stream",
     "text": [
      "Fitting 5 folds for each of 1 candidates, totalling 5 fits\n"
     ]
    },
    {
     "name": "stderr",
     "output_type": "stream",
     "text": [
      "[Parallel(n_jobs=-1)]: Using backend LokyBackend with 8 concurrent workers.\n",
      "[Parallel(n_jobs=-1)]: Done   2 out of   5 | elapsed:    1.8s remaining:    2.8s\n",
      "[Parallel(n_jobs=-1)]: Done   5 out of   5 | elapsed:    1.9s finished\n",
      "[Parallel(n_jobs=-1)]: Using backend LokyBackend with 8 concurrent workers.\n",
      "[Parallel(n_jobs=-1)]: Done   2 out of   5 | elapsed:    0.0s remaining:    0.0s\n"
     ]
    },
    {
     "name": "stdout",
     "output_type": "stream",
     "text": [
      "GaussianNB\n",
      "- best_score = 0.8172253686574532\n",
      "best paramters:\n",
      "Fitting 5 folds for each of 1 candidates, totalling 5 fits\n"
     ]
    },
    {
     "name": "stderr",
     "output_type": "stream",
     "text": [
      "[Parallel(n_jobs=-1)]: Done   5 out of   5 | elapsed:    1.1s finished\n",
      "[Parallel(n_jobs=-1)]: Using backend LokyBackend with 8 concurrent workers.\n"
     ]
    },
    {
     "name": "stdout",
     "output_type": "stream",
     "text": [
      "DummyClassifier\n",
      "- best_score = 0.8635771719301687\n",
      "best paramters:\n",
      "Fitting 5 folds for each of 4 candidates, totalling 20 fits\n"
     ]
    },
    {
     "name": "stderr",
     "output_type": "stream",
     "text": [
      "[Parallel(n_jobs=-1)]: Done  20 out of  20 | elapsed:    0.1s finished\n",
      "[Parallel(n_jobs=-1)]: Using backend LokyBackend with 8 concurrent workers.\n"
     ]
    },
    {
     "name": "stdout",
     "output_type": "stream",
     "text": [
      "DecisionTreeClassifier\n",
      "- best_score = 0.8346344789075552\n",
      "best paramters:\n",
      "- max_depth 2\n",
      "- random_state 42\n",
      "Fitting 5 folds for each of 256 candidates, totalling 1280 fits\n"
     ]
    },
    {
     "name": "stderr",
     "output_type": "stream",
     "text": [
      "[Parallel(n_jobs=-1)]: Done  60 tasks      | elapsed:    0.2s\n",
      "[Parallel(n_jobs=-1)]: Done 1280 out of 1280 | elapsed:    4.5s finished\n",
      "[Parallel(n_jobs=-1)]: Using backend LokyBackend with 8 concurrent workers.\n"
     ]
    },
    {
     "name": "stdout",
     "output_type": "stream",
     "text": [
      "LogisticRegression\n",
      "- best_score = 0.8271721439761208\n",
      "best paramters:\n",
      "- C 10\n",
      "- max_iter 100\n",
      "- penalty l1\n",
      "- random_state 42\n",
      "- solver liblinear\n",
      "Fitting 5 folds for each of 12 candidates, totalling 60 fits\n"
     ]
    },
    {
     "name": "stderr",
     "output_type": "stream",
     "text": [
      "[Parallel(n_jobs=-1)]: Done  34 tasks      | elapsed:   35.9s\n",
      "[Parallel(n_jobs=-1)]: Done  60 out of  60 | elapsed:  1.1min finished\n"
     ]
    },
    {
     "name": "stdout",
     "output_type": "stream",
     "text": [
      "SVM\n",
      "- best_score = 0.8369267257333648\n",
      "best paramters:\n",
      "- C 11\n",
      "- kernel rbf\n",
      "- random_state 42\n",
      "Fitting 5 folds for each of 20 candidates, totalling 100 fits\n"
     ]
    },
    {
     "name": "stderr",
     "output_type": "stream",
     "text": [
      "[Parallel(n_jobs=-1)]: Using backend LokyBackend with 8 concurrent workers.\n",
      "[Parallel(n_jobs=-1)]: Done  34 tasks      | elapsed:    1.4s\n"
     ]
    },
    {
     "name": "stdout",
     "output_type": "stream",
     "text": [
      "KNeighborsClassifier\n",
      "- best_score = 0.8317875820597319\n",
      "best paramters:\n",
      "- n_neighbors 10\n",
      "- weights uniform\n"
     ]
    },
    {
     "name": "stderr",
     "output_type": "stream",
     "text": [
      "[Parallel(n_jobs=-1)]: Done 100 out of 100 | elapsed:    4.4s finished\n"
     ]
    }
   ],
   "source": [
    "from sklearn.model_selection import GridSearchCV\n",
    "from sklearn.metrics import make_scorer\n",
    "\n",
    "\n",
    "random_state = 42\n",
    "n_splits = 5\n",
    "scoring_method = make_scorer(lambda prediction, true_target: f1_score(true_target, prediction, average=\"weighted\"))\n",
    "\n",
    "model_parameters = {\n",
    "    \"GaussianNB\": {\n",
    "\n",
    "    },\n",
    "    \"DummyClassifier\": {\n",
    "\n",
    "    },\n",
    "    \"DecisionTreeClassifier\": {\n",
    "        'random_state': [random_state],\n",
    "        'max_depth': [None, 2, 5, 10]\n",
    "    },\n",
    "    \"LogisticRegression\": {\n",
    "        'penalty' : ['l1','l2','elasticnet', 'none'],\n",
    "        'C' : [10,1000,3000,4000],\n",
    "        'solver' : ['lbfgs','newton-cg','liblinear', 'sag'],\n",
    "        'max_iter' : [100,1000,2500,5000],\n",
    "        'random_state' : [random_state]\n",
    "    },\n",
    "    \"SVM\": {\n",
    "        'C' : [11,12,13,14],\n",
    "        'kernel' : ['rbf','linear','poly'],\n",
    "        'random_state' : [random_state]\n",
    "    },\n",
    "    \"KNeighborsClassifier\" : {\n",
    "        'n_neighbors' : [1, 2, 3, 4, 5, 6, 7, 8, 9, 10],\n",
    "        'weights' : ['uniform', 'distance']\n",
    "    }\n",
    "}\n",
    "\n",
    "for model_name, parameters in model_parameters.items():\n",
    "    model = models[model_name]\n",
    "\n",
    "    cv = KFold(n_splits=n_splits, random_state=random_state, shuffle=True)\n",
    "    grid_search = GridSearchCV(model, parameters, cv=cv, n_jobs=-1, verbose=True, scoring=scoring_method).fit(Xtrain, Ytrain.ravel())\n",
    "\n",
    "    best_model = grid_search.best_estimator_\n",
    "    best_score = grid_search.best_score_\n",
    "    best_params = grid_search.best_params_\n",
    "\n",
    "    print(model_name)\n",
    "    print(\"- best_score =\", best_score)\n",
    "    print(\"best paramters:\")\n",
    "    for k,v in best_params.items():\n",
    "        print(\"-\", k, v)\n",
    "\n"
   ]
  },
  {
   "cell_type": "markdown",
   "metadata": {
    "pycharm": {
     "name": "#%% md\n"
    }
   },
   "source": [
    "### Question 4"
   ]
  },
  {
   "cell_type": "code",
   "execution_count": 52,
   "metadata": {
    "scrolled": true
   },
   "outputs": [
    {
     "name": "stdout",
     "output_type": "stream",
     "text": [
      "GaussianNB\n",
      "- accuracy_score 0.8103501228501229\n",
      "- f1_score 0.8116771981047121\n",
      "DummyClassifier\n",
      "- accuracy_score 0.7581388206388207\n",
      "- f1_score 0.6538442409806721\n",
      "DecisionTreeClassifier\n",
      "- accuracy_score 0.8167997542997543\n",
      "- f1_score 0.7986032552352239\n",
      "KNeighborsClassifier\n",
      "- accuracy_score 0.8195638820638821\n",
      "- f1_score 0.8113473354149381\n",
      "SVM\n",
      "- accuracy_score 0.8303132678132679\n",
      "- f1_score 0.8223765818951388\n",
      "LogisticRegression\n",
      "- accuracy_score 0.8161855036855037\n",
      "- f1_score 0.8075309707424664\n"
     ]
    }
   ],
   "source": [
    "#TODO\n",
    "# Tuned models\n",
    "random_state = 42\n",
    "\n",
    "tuned_models = {\n",
    "    \"GaussianNB\": GaussianNB(),\n",
    "    \"DummyClassifier\": DummyClassifier(strategy=\"most_frequent\"),\n",
    "    \"DecisionTreeClassifier\": DecisionTreeClassifier(max_depth=2, min_samples_leaf=2, random_state=random_state),\n",
    "    \"KNeighborsClassifier\": KNeighborsClassifier(n_neighbors=10, weights=\"uniform\"),\n",
    "    \"SVM\": SVC(C=11, kernel=\"rbf\", random_state=42),\n",
    "    \"LogisticRegression\": LogisticRegression(random_state=42, C=10,max_iter=100,\n",
    "                                             penalty='l1',solver='liblinear')\n",
    "}\n",
    "tuned_names = []\n",
    "tuned_results = []\n",
    "for name, model in tuned_models.items():\n",
    "    model.fit(Xtrain,Ytrain.ravel())\n",
    "    prediction = model.predict(Xtest)\n",
    "    f1_score_value = f1_score(Ytest.ravel(), prediction, average=\"weighted\")\n",
    "    accuracy = accuracy_score(Ytest.ravel(), prediction)\n",
    "    tuned_results.append(f1_score_value)\n",
    "    tuned_names.append(name)\n",
    "    print(name)\n",
    "    print(\"- accuracy_score\", accuracy)\n",
    "    print(\"- f1_score\", f1_score_value)"
   ]
  },
  {
   "cell_type": "code",
   "execution_count": 54,
   "metadata": {
    "pycharm": {
     "name": "#%%\n"
    }
   },
   "outputs": [
    {
     "data": {
      "image/png": "[encoded data removed]",
      "text/plain": [
       "<Figure size 720x360 with 1 Axes>"
      ]
     },
     "metadata": {
      "needs_background": "light"
     },
     "output_type": "display_data"
    }
   ],
   "source": [
    "# results\n",
    "plt.figure(figsize=(10,5))\n",
    "plt.plot(names,results, marker=\"o\",label=\"before hyperparameter tuning\")\n",
    "plt.plot(names,tuned_results,marker=\"x\",label=\"after hyperparameter tuning\")\n",
    "plt.xlabel('Classifier')\n",
    "plt.ylabel('f1_score')\n",
    "plt.legend()\n",
    "plt.show()"
   ]
  },
  {
   "cell_type": "markdown",
   "metadata": {
    "pycharm": {
     "name": "#%% md\n"
    }
   },
   "source": [
    "### Question 5"
   ]
  },
  {
   "cell_type": "code",
   "execution_count": 55,
   "metadata": {
    "pycharm": {
     "name": "#%%\n"
    }
   },
   "outputs": [],
   "source": [
    "#TODO\n",
    "prediction = tuned_models['SVM'].predict(x_scaled_test) #TODO replace this with you own prediction\n",
    "pd.DataFrame(prediction).to_csv(\"GROUP18_classes_problem_census.txt\", index=False, header=False)"
   ]
  }
 ],
 "metadata": {
  "kernelspec": {
   "display_name": "Python 3",
   "language": "python",
   "name": "python3"
  },
  "language_info": {
   "codemirror_mode": {
    "name": "ipython",
    "version": 3
   },
   "file_extension": ".py",
   "mimetype": "text/x-python",
   "name": "python",
   "nbconvert_exporter": "python",
   "pygments_lexer": "ipython3",
   "version": "3.8.3"
  }
 },
 "nbformat": 4,
 "nbformat_minor": 4
}